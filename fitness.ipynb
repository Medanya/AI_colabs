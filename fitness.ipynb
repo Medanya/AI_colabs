{
 "cells": [
  {
   "cell_type": "code",
   "execution_count": 41,
   "id": "f7d313c2-2669-4e24-bd33-6e46e13dd37f",
   "metadata": {},
   "outputs": [],
   "source": [
    "import pickle\n",
    "\n",
    "with open('user_token.pickle', 'rb') as token_file:\n",
    "    creds = pickle.load(token_file)"
   ]
  },
  {
   "cell_type": "code",
   "execution_count": 1,
   "id": "2768ff30",
   "metadata": {},
   "outputs": [],
   "source": [
    "import json"
   ]
  },
  {
   "cell_type": "code",
   "execution_count": 5,
   "id": "f7d62a92",
   "metadata": {},
   "outputs": [],
   "source": [
    "creds = json.load(open(\"./credentials.json\", \"r\"))"
   ]
  },
  {
   "cell_type": "code",
   "execution_count": 6,
   "id": "63883b69-3fec-44ba-bdde-48581f313dd0",
   "metadata": {
    "tags": []
   },
   "outputs": [
    {
     "ename": "AttributeError",
     "evalue": "'dict' object has no attribute 'to_json'",
     "output_type": "error",
     "traceback": [
      "\u001b[0;31m---------------------------------------------------------------------------\u001b[0m",
      "\u001b[0;31mAttributeError\u001b[0m                            Traceback (most recent call last)",
      "Cell \u001b[0;32mIn[6], line 1\u001b[0m\n\u001b[0;32m----> 1\u001b[0m \u001b[38;5;28mprint\u001b[39m(\u001b[38;5;124m\"\u001b[39m\u001b[38;5;124mJSON: \u001b[39m\u001b[38;5;124m\"\u001b[39m, \u001b[43mcreds\u001b[49m\u001b[38;5;241;43m.\u001b[39;49m\u001b[43mto_json\u001b[49m())\n\u001b[1;32m      2\u001b[0m \u001b[38;5;28mprint\u001b[39m(\u001b[38;5;124m\"\u001b[39m\u001b[38;5;124mExpired: \u001b[39m\u001b[38;5;124m\"\u001b[39m, creds\u001b[38;5;241m.\u001b[39mexpired)\n\u001b[1;32m      3\u001b[0m \u001b[38;5;28mprint\u001b[39m(\u001b[38;5;124m\"\u001b[39m\u001b[38;5;124mRefresh token: \u001b[39m\u001b[38;5;124m\"\u001b[39m, creds\u001b[38;5;241m.\u001b[39mrefresh_token)\n",
      "\u001b[0;31mAttributeError\u001b[0m: 'dict' object has no attribute 'to_json'"
     ]
    }
   ],
   "source": [
    "print(\"JSON: \", creds.to_json())\n",
    "print(\"Expired: \", creds.expired)\n",
    "print(\"Refresh token: \", creds.refresh_token)\n",
    "print(\"Valid: \", creds.valid)\n",
    "print(\"Scopes: \", creds.scopes)"
   ]
  },
  {
   "cell_type": "code",
   "execution_count": 7,
   "id": "0c8eebe4-c9ab-4d34-bde9-dbfe0050b6b9",
   "metadata": {
    "tags": []
   },
   "outputs": [],
   "source": [
    "# Define the new scopes to add\n",
    "NEW_SCOPES = [\n",
    "    'https://www.googleapis.com/auth/fitness.activity.read',\n",
    "    'https://www.googleapis.com/auth/fitness.sleep.read',\n",
    "]"
   ]
  },
  {
   "cell_type": "code",
   "execution_count": 9,
   "id": "4b78bf80-f206-4fdc-9c2b-33df8e2e025a",
   "metadata": {
    "tags": []
   },
   "outputs": [],
   "source": [
    "REDIRECT_URL = \"https://medanya.github.io/\"\n",
    "#REDIRECT_URL = \"https://jup3.xmanatee.space/lab/tree/automation/google/photos/fitness.ipynb\""
   ]
  },
  {
   "cell_type": "code",
   "execution_count": 11,
   "id": "43cf80fc",
   "metadata": {},
   "outputs": [
    {
     "name": "stdout",
     "output_type": "stream",
     "text": [
      "zsh:1: command not found: pip\r\n"
     ]
    }
   ],
   "source": [
    "!pip install google_auth_oauthlib"
   ]
  },
  {
   "cell_type": "code",
   "execution_count": 10,
   "id": "22c59ba8-3eea-4678-93dd-b3275497bb1a",
   "metadata": {
    "tags": []
   },
   "outputs": [
    {
     "ename": "ModuleNotFoundError",
     "evalue": "No module named 'google_auth_oauthlib'",
     "output_type": "error",
     "traceback": [
      "\u001b[0;31m---------------------------------------------------------------------------\u001b[0m",
      "\u001b[0;31mModuleNotFoundError\u001b[0m                       Traceback (most recent call last)",
      "Cell \u001b[0;32mIn[10], line 1\u001b[0m\n\u001b[0;32m----> 1\u001b[0m \u001b[38;5;28;01mfrom\u001b[39;00m \u001b[38;5;21;01mgoogle_auth_oauthlib\u001b[39;00m\u001b[38;5;21;01m.\u001b[39;00m\u001b[38;5;21;01mflow\u001b[39;00m \u001b[38;5;28;01mimport\u001b[39;00m Flow\n\u001b[1;32m      3\u001b[0m \u001b[38;5;66;03m# Create a flow object to manage the OAuth 2.0 Authorization Code Grant Flow steps\u001b[39;00m\n\u001b[1;32m      4\u001b[0m flow \u001b[38;5;241m=\u001b[39m Flow\u001b[38;5;241m.\u001b[39mfrom_client_secrets_file(\n\u001b[1;32m      5\u001b[0m     \u001b[38;5;124m\"\u001b[39m\u001b[38;5;124mcredentials.json\u001b[39m\u001b[38;5;124m\"\u001b[39m,\n\u001b[1;32m      6\u001b[0m     scopes\u001b[38;5;241m=\u001b[39mcreds\u001b[38;5;241m.\u001b[39mscopes\u001b[38;5;241m+\u001b[39mNEW_SCOPES, \n\u001b[1;32m      7\u001b[0m     redirect_uri\u001b[38;5;241m=\u001b[39mREDIRECT_URL)\n",
      "\u001b[0;31mModuleNotFoundError\u001b[0m: No module named 'google_auth_oauthlib'"
     ]
    }
   ],
   "source": [
    "from google_auth_oauthlib.flow import Flow\n",
    "\n",
    "# Create a flow object to manage the OAuth 2.0 Authorization Code Grant Flow steps\n",
    "flow = Flow.from_client_secrets_file(\n",
    "    \"credentials.json\",\n",
    "    scopes=creds.scopes+NEW_SCOPES, \n",
    "    redirect_uri=REDIRECT_URL)\n",
    "\n",
    "# Generate the authorization URL\n",
    "auth_url, _ = flow.authorization_url(access_type='offline', include_granted_scopes='true')\n",
    "\n",
    "# Redirect the user to the authorization URL\n",
    "print(auth_url)"
   ]
  },
  {
   "cell_type": "code",
   "execution_count": 61,
   "id": "9f9802fb-0c46-4ab2-af22-18dc8f929c67",
   "metadata": {
    "tags": []
   },
   "outputs": [],
   "source": [
    "response_url = \"https://jup3.xmanatee.space/lab/workspaces/auto-t/tree/automation/google/photos/fitness.ipynb?state=nPyHuGi8m22jnypARJSWmQtkyPAGDS&code=4%2F0AVHEtk7hoZ_GjEbR3gGV8opcZouh_EMQlDLHirvxY8CGPD0ceK_XGtQXymy3-oGwqBawPA&scope=https%3A%2F%2Fwww.googleapis.com%2Fauth%2Ffitness.sleep.read%20https%3A%2F%2Fwww.googleapis.com%2Fauth%2Fphotoslibrary.readonly%20https%3A%2F%2Fwww.googleapis.com%2Fauth%2Fphotoslibrary.appendonly%20https%3A%2F%2Fwww.googleapis.com%2Fauth%2Fphotoslibrary.readonly.appcreateddata%20https%3A%2F%2Fwww.googleapis.com%2Fauth%2Fphotoslibrary.edit.appcreateddata%20https%3A%2F%2Fwww.googleapis.com%2Fauth%2Fphotoslibrary.sharing%20https%3A%2F%2Fwww.googleapis.com%2Fauth%2Fphotoslibrary%20https%3A%2F%2Fwww.googleapis.com%2Fauth%2Ffitness.activity.read\""
   ]
  },
  {
   "cell_type": "code",
   "execution_count": 62,
   "id": "8d8e8305-db34-4bcf-853f-fec39d0025c4",
   "metadata": {
    "tags": []
   },
   "outputs": [
    {
     "data": {
      "text/plain": [
       "{'access_token': 'ya29.a0Ael9sCOzKs4pHSqU9IpjCwRZtHUccvOfZUIHot7Aa6pv30IWEFZdCFrRqaYJP4Q-NnjLV3NiLaMzRKu9A2lMHY5AF64-TnB_Im3iL5j8Gy-EjrDDkLp8WOWR91SmC2GHd1soSPkVrMMRRbwDqA155E8_c8N5aCgYKAdESARISFQF4udJhg6yChRkyJtXneggGCQgGZA0163',\n",
       " 'expires_in': 3599,\n",
       " 'refresh_token': '1//03ySdmm87STMlCgYIARAAGAMSNwF-L9IrmNhUj-Cf3sTEkc8cMD91XZjsbFnn6Wula4wa9zsvGNWk77ZeL2yjFUpVGzFapPayNkc',\n",
       " 'scope': ['https://www.googleapis.com/auth/fitness.sleep.read',\n",
       "  'https://www.googleapis.com/auth/photoslibrary',\n",
       "  'https://www.googleapis.com/auth/photoslibrary.sharing',\n",
       "  'https://www.googleapis.com/auth/photoslibrary.edit.appcreateddata',\n",
       "  'https://www.googleapis.com/auth/fitness.activity.read',\n",
       "  'https://www.googleapis.com/auth/photoslibrary.readonly.appcreateddata',\n",
       "  'https://www.googleapis.com/auth/photoslibrary.readonly',\n",
       "  'https://www.googleapis.com/auth/photoslibrary.appendonly'],\n",
       " 'token_type': 'Bearer',\n",
       " 'expires_at': 1680064549.1849644}"
      ]
     },
     "execution_count": 62,
     "metadata": {},
     "output_type": "execute_result"
    }
   ],
   "source": [
    "from google.oauth2.credentials import Credentials\n",
    "\n",
    "# Use the authorization code to fetch access and refresh tokens\n",
    "flow.fetch_token(authorization_response=response_url)"
   ]
  },
  {
   "cell_type": "code",
   "execution_count": 63,
   "id": "30dc8b22-0f28-4929-93a1-0c25f309914d",
   "metadata": {
    "tags": []
   },
   "outputs": [],
   "source": [
    "# Get the credentials object from the flow object\n",
    "creds2 = flow.credentials"
   ]
  },
  {
   "cell_type": "code",
   "execution_count": 64,
   "id": "44360550-d15f-428f-9609-1ac73eb53e16",
   "metadata": {
    "tags": []
   },
   "outputs": [
    {
     "name": "stdout",
     "output_type": "stream",
     "text": [
      "JSON:  {\"token\": \"ya29.a0Ael9sCOzKs4pHSqU9IpjCwRZtHUccvOfZUIHot7Aa6pv30IWEFZdCFrRqaYJP4Q-NnjLV3NiLaMzRKu9A2lMHY5AF64-TnB_Im3iL5j8Gy-EjrDDkLp8WOWR91SmC2GHd1soSPkVrMMRRbwDqA155E8_c8N5aCgYKAdESARISFQF4udJhg6yChRkyJtXneggGCQgGZA0163\", \"refresh_token\": \"1//03ySdmm87STMlCgYIARAAGAMSNwF-L9IrmNhUj-Cf3sTEkc8cMD91XZjsbFnn6Wula4wa9zsvGNWk77ZeL2yjFUpVGzFapPayNkc\", \"token_uri\": \"https://oauth2.googleapis.com/token\", \"client_id\": \"1093121102401-s34dis4pndtifjnhkuklu0rcrul8om6h.apps.googleusercontent.com\", \"client_secret\": \"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\", \"scopes\": [\"https://www.googleapis.com/auth/photoslibrary.readonly\", \"https://www.googleapis.com/auth/photoslibrary.appendonly\", \"https://www.googleapis.com/auth/photoslibrary.readonly.appcreateddata\", \"https://www.googleapis.com/auth/photoslibrary.edit.appcreateddata\", \"https://www.googleapis.com/auth/photoslibrary.sharing\", \"https://www.googleapis.com/auth/photoslibrary\", \"https://www.googleapis.com/auth/fitness.activity.read\", \"https://www.googleapis.com/auth/fitness.sleep.read\"], \"expiry\": \"2023-03-29T04:35:49.184964Z\"}\n",
      "Expired:  False\n",
      "Refresh token:  1//03ySdmm87STMlCgYIARAAGAMSNwF-L9IrmNhUj-Cf3sTEkc8cMD91XZjsbFnn6Wula4wa9zsvGNWk77ZeL2yjFUpVGzFapPayNkc\n",
      "Valid:  True\n",
      "Scopes:  ['https://www.googleapis.com/auth/photoslibrary.readonly', 'https://www.googleapis.com/auth/photoslibrary.appendonly', 'https://www.googleapis.com/auth/photoslibrary.readonly.appcreateddata', 'https://www.googleapis.com/auth/photoslibrary.edit.appcreateddata', 'https://www.googleapis.com/auth/photoslibrary.sharing', 'https://www.googleapis.com/auth/photoslibrary', 'https://www.googleapis.com/auth/fitness.activity.read', 'https://www.googleapis.com/auth/fitness.sleep.read']\n"
     ]
    }
   ],
   "source": [
    "print(\"JSON: \", creds2.to_json())\n",
    "print(\"Expired: \", creds2.expired)\n",
    "print(\"Refresh token: \", creds2.refresh_token)\n",
    "print(\"Valid: \", creds2.valid)\n",
    "print(\"Scopes: \", creds2.scopes)"
   ]
  },
  {
   "cell_type": "code",
   "execution_count": 65,
   "id": "a850b021-c2bd-40c2-8612-b009b761d709",
   "metadata": {
    "tags": []
   },
   "outputs": [],
   "source": [
    "import pickle\n",
    "# Save the credentials to a file for future use\n",
    "with open('user_token_2.pickle', 'wb') as token_file:\n",
    "    pickle.dump(creds2, token_file)"
   ]
  },
  {
   "cell_type": "code",
   "execution_count": 147,
   "id": "572f0e68-f41c-46c7-9d9e-6b2293fecd12",
   "metadata": {
    "tags": []
   },
   "outputs": [],
   "source": [
    "from googleapiclient.discovery import build"
   ]
  },
  {
   "cell_type": "code",
   "execution_count": 148,
   "id": "b22e759e-3838-4ee1-ba1f-9aa39a0d86a8",
   "metadata": {
    "tags": []
   },
   "outputs": [],
   "source": [
    "# Build the Google Fit API client\n",
    "fit_api = build('fitness', 'v1', credentials=creds2)"
   ]
  },
  {
   "cell_type": "code",
   "execution_count": 149,
   "id": "77ea3703-4fb7-42ec-8332-56c67cebbe18",
   "metadata": {
    "tags": []
   },
   "outputs": [],
   "source": [
    "from datetime import datetime, timedelta\n",
    "\n",
    "# Define the time range for the activity data\n",
    "start_time = datetime.now() - timedelta(days=7)\n",
    "end_time = datetime.now()\n",
    "\n",
    "# Convert the start and end times to Unix timestamps\n",
    "start_time_millis = int(start_time.timestamp()) * 1000\n",
    "end_time_millis = int(end_time.timestamp()) * 1000"
   ]
  },
  {
   "cell_type": "code",
   "execution_count": 151,
   "id": "d8edb587-e809-4fb3-8775-3256ae46cc7c",
   "metadata": {
    "tags": []
   },
   "outputs": [],
   "source": [
    "results = fit_api.users().dataset().aggregate(\n",
    "    userId='me',\n",
    "    body={\n",
    "        \"aggregateBy\": [{\n",
    "            # \"dataTypeName\": \"com.google.sleep.segment\"\n",
    "            \"dataTypeName\": \"com.google.step_count.delta\"\n",
    "        }],\n",
    "        \"bucketByTime\": {\n",
    "            \"durationMillis\": 24 * 60 * 60 * 1000\n",
    "        },\n",
    "        \"startTimeMillis\": start_time_millis,\n",
    "        \"endTimeMillis\": end_time_millis,\n",
    "    }\n",
    ").execute()\n",
    "# results"
   ]
  },
  {
   "cell_type": "code",
   "execution_count": 152,
   "id": "bd88224f-cd2c-48ee-9f01-ed2c47ef5a65",
   "metadata": {
    "tags": []
   },
   "outputs": [
    {
     "data": {
      "image/png": "[encoded data removed]",
      "text/plain": [
       "<Figure size 640x480 with 1 Axes>"
      ]
     },
     "metadata": {},
     "output_type": "display_data"
    }
   ],
   "source": [
    "import matplotlib.pyplot as plt\n",
    "\n",
    "# Initialize empty lists for the x-axis and y-axis values\n",
    "x_values = []\n",
    "y_values = []\n",
    "\n",
    "# Loop through each bucket in the data\n",
    "for bucket in results['bucket']:\n",
    "    # Loop through each dataset in the bucket\n",
    "    for dataset in bucket['dataset']:\n",
    "        # Loop through each point in the dataset\n",
    "        for point in dataset['point']:\n",
    "            # Get the start time of the point and convert it to seconds\n",
    "            start_time = int(point['startTimeNanos']) / 1e9\n",
    "            start_datetime = datetime.fromtimestamp(start_time)\n",
    "            # Get the step count value from the point\n",
    "            step_count = point['value'][0]['intVal']\n",
    "            # Append the start time and step count to the x and y value lists\n",
    "            x_values.append(start_datetime)\n",
    "            y_values.append(step_count)\n",
    "\n",
    "# Create a line chart with the x and y values\n",
    "plt.plot(x_values, y_values)\n",
    "\n",
    "# Set the chart title and axis labels\n",
    "plt.title('Step Count Over Time')\n",
    "plt.xlabel('Time (s)')\n",
    "# Rotate the x-axis labels by 45 degrees\n",
    "plt.xticks(rotation=30)\n",
    "plt.ylabel('Step Count')\n",
    "\n",
    "# Show the chart\n",
    "plt.show()"
   ]
  },
  {
   "cell_type": "code",
   "execution_count": null,
   "id": "1b7d3b91-4976-4eae-bf50-05801cec53b5",
   "metadata": {},
   "outputs": [],
   "source": []
  }
 ],
 "metadata": {
  "kernelspec": {
   "display_name": "Python 3 (ipykernel)",
   "language": "python",
   "name": "python3"
  },
  "language_info": {
   "codemirror_mode": {
    "name": "ipython",
    "version": 3
   },
   "file_extension": ".py",
   "mimetype": "text/x-python",
   "name": "python",
   "nbconvert_exporter": "python",
   "pygments_lexer": "ipython3",
   "version": "3.11.2"
  }
 },
 "nbformat": 4,
 "nbformat_minor": 5
}
